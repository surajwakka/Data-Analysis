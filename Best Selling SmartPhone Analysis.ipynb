{
 "cells": [
  {
   "cell_type": "markdown",
   "metadata": {},
   "source": [
    "# Importing Libraries"
   ]
  },
  {
   "cell_type": "code",
   "execution_count": 1,
   "metadata": {
    "execution": {
     "iopub.execute_input": "2022-10-08T09:47:00.721047Z",
     "iopub.status.busy": "2022-10-08T09:47:00.720522Z",
     "iopub.status.idle": "2022-10-08T09:47:00.73232Z",
     "shell.execute_reply": "2022-10-08T09:47:00.730976Z",
     "shell.execute_reply.started": "2022-10-08T09:47:00.720925Z"
    }
   },
   "outputs": [],
   "source": [
    "import numpy as np # linear algebra\n",
    "import pandas as pd # data processing, CSV file I/O (e.g. pd.read_csv)\n",
    "import matplotlib.pyplot as plt\n",
    "import seaborn as sns #data visualization \n",
    "sns.set_style(\"white\")\n",
    "\n",
    "\n",
    "import os\n",
    "for dirname, _, filenames in os.walk('/kaggle/input'):\n",
    "    for filename in filenames:\n",
    "        print(os.path.join(dirname, filename))\n"
   ]
  },
  {
   "cell_type": "markdown",
   "metadata": {},
   "source": [
    "# Basic Exploration of the Data"
   ]
  },
  {
   "cell_type": "code",
   "execution_count": 14,
   "metadata": {
    "execution": {
     "iopub.execute_input": "2022-10-08T08:58:48.125942Z",
     "iopub.status.busy": "2022-10-08T08:58:48.125529Z",
     "iopub.status.idle": "2022-10-08T08:58:48.147695Z",
     "shell.execute_reply": "2022-10-08T08:58:48.146836Z",
     "shell.execute_reply.started": "2022-10-08T08:58:48.125908Z"
    }
   },
   "outputs": [
    {
     "data": {
      "text/html": [
       "<div>\n",
       "<style scoped>\n",
       "    .dataframe tbody tr th:only-of-type {\n",
       "        vertical-align: middle;\n",
       "    }\n",
       "\n",
       "    .dataframe tbody tr th {\n",
       "        vertical-align: top;\n",
       "    }\n",
       "\n",
       "    .dataframe thead th {\n",
       "        text-align: right;\n",
       "    }\n",
       "</style>\n",
       "<table border=\"1\" class=\"dataframe\">\n",
       "  <thead>\n",
       "    <tr style=\"text-align: right;\">\n",
       "      <th></th>\n",
       "      <th>manufacturer</th>\n",
       "      <th>model</th>\n",
       "      <th>form</th>\n",
       "      <th>smartphone</th>\n",
       "      <th>year</th>\n",
       "      <th>units_sold_m</th>\n",
       "    </tr>\n",
       "  </thead>\n",
       "  <tbody>\n",
       "    <tr>\n",
       "      <th>0</th>\n",
       "      <td>Nokia</td>\n",
       "      <td>1100</td>\n",
       "      <td>Bar</td>\n",
       "      <td>No</td>\n",
       "      <td>2003</td>\n",
       "      <td>250.0</td>\n",
       "    </tr>\n",
       "    <tr>\n",
       "      <th>1</th>\n",
       "      <td>Nokia</td>\n",
       "      <td>1110</td>\n",
       "      <td>Bar</td>\n",
       "      <td>No</td>\n",
       "      <td>2005</td>\n",
       "      <td>247.5</td>\n",
       "    </tr>\n",
       "    <tr>\n",
       "      <th>2</th>\n",
       "      <td>Apple</td>\n",
       "      <td>iPhone 6 and iPhone 6 Plus</td>\n",
       "      <td>Touchscreen</td>\n",
       "      <td>Yes</td>\n",
       "      <td>2014</td>\n",
       "      <td>224.0</td>\n",
       "    </tr>\n",
       "    <tr>\n",
       "      <th>3</th>\n",
       "      <td>Nokia</td>\n",
       "      <td>105 (2013), 105 (2015)</td>\n",
       "      <td>Bar</td>\n",
       "      <td>No</td>\n",
       "      <td>2013</td>\n",
       "      <td>200.0</td>\n",
       "    </tr>\n",
       "    <tr>\n",
       "      <th>4</th>\n",
       "      <td>Apple</td>\n",
       "      <td>iPhone 6S and iPhone 6S Plus</td>\n",
       "      <td>Touchscreen</td>\n",
       "      <td>Yes</td>\n",
       "      <td>2015</td>\n",
       "      <td>174.1</td>\n",
       "    </tr>\n",
       "    <tr>\n",
       "      <th>...</th>\n",
       "      <td>...</td>\n",
       "      <td>...</td>\n",
       "      <td>...</td>\n",
       "      <td>...</td>\n",
       "      <td>...</td>\n",
       "      <td>...</td>\n",
       "    </tr>\n",
       "    <tr>\n",
       "      <th>106</th>\n",
       "      <td>LG</td>\n",
       "      <td>G2</td>\n",
       "      <td>Touchscreen</td>\n",
       "      <td>Yes</td>\n",
       "      <td>2013</td>\n",
       "      <td>3.0</td>\n",
       "    </tr>\n",
       "    <tr>\n",
       "      <th>107</th>\n",
       "      <td>LeTV</td>\n",
       "      <td>LeEco Le 1s</td>\n",
       "      <td>Touchscreen</td>\n",
       "      <td>Yes</td>\n",
       "      <td>2016</td>\n",
       "      <td>3.0</td>\n",
       "    </tr>\n",
       "    <tr>\n",
       "      <th>108</th>\n",
       "      <td>Google</td>\n",
       "      <td>Pixel and Pixel XL</td>\n",
       "      <td>Touchscreen</td>\n",
       "      <td>Yes</td>\n",
       "      <td>2016</td>\n",
       "      <td>2.1</td>\n",
       "    </tr>\n",
       "    <tr>\n",
       "      <th>109</th>\n",
       "      <td>Palm</td>\n",
       "      <td>Centro</td>\n",
       "      <td>Keyboard bar</td>\n",
       "      <td>Yes</td>\n",
       "      <td>2007</td>\n",
       "      <td>2.0</td>\n",
       "    </tr>\n",
       "    <tr>\n",
       "      <th>110</th>\n",
       "      <td>Nokia</td>\n",
       "      <td>N97</td>\n",
       "      <td>Tilt slider</td>\n",
       "      <td>Yes</td>\n",
       "      <td>2009</td>\n",
       "      <td>2.0</td>\n",
       "    </tr>\n",
       "  </tbody>\n",
       "</table>\n",
       "<p>111 rows × 6 columns</p>\n",
       "</div>"
      ],
      "text/plain": [
       "    manufacturer                         model          form smartphone  year  \\\n",
       "0          Nokia                          1100           Bar         No  2003   \n",
       "1          Nokia                          1110           Bar         No  2005   \n",
       "2          Apple    iPhone 6 and iPhone 6 Plus   Touchscreen        Yes  2014   \n",
       "3          Nokia        105 (2013), 105 (2015)           Bar         No  2013   \n",
       "4          Apple  iPhone 6S and iPhone 6S Plus   Touchscreen        Yes  2015   \n",
       "..           ...                           ...           ...        ...   ...   \n",
       "106           LG                            G2   Touchscreen        Yes  2013   \n",
       "107         LeTV                   LeEco Le 1s   Touchscreen        Yes  2016   \n",
       "108       Google            Pixel and Pixel XL   Touchscreen        Yes  2016   \n",
       "109         Palm                        Centro  Keyboard bar        Yes  2007   \n",
       "110        Nokia                           N97   Tilt slider        Yes  2009   \n",
       "\n",
       "     units_sold_m  \n",
       "0           250.0  \n",
       "1           247.5  \n",
       "2           224.0  \n",
       "3           200.0  \n",
       "4           174.1  \n",
       "..            ...  \n",
       "106           3.0  \n",
       "107           3.0  \n",
       "108           2.1  \n",
       "109           2.0  \n",
       "110           2.0  \n",
       "\n",
       "[111 rows x 6 columns]"
      ]
     },
     "execution_count": 14,
     "metadata": {},
     "output_type": "execute_result"
    }
   ],
   "source": [
    "best_selling = pd.read_csv(\"C:\\\\Users\\\\sharm\\\\OneDrive\\\\Desktop\\\\Python Project\\\\Best Selling Smart Phones of 2021\\\\best-selling-mobile-phones.csv\")\n",
    "best_selling"
   ]
  },
  {
   "cell_type": "code",
   "execution_count": 15,
   "metadata": {
    "execution": {
     "iopub.execute_input": "2022-10-08T09:05:44.129433Z",
     "iopub.status.busy": "2022-10-08T09:05:44.129045Z",
     "iopub.status.idle": "2022-10-08T09:05:44.135966Z",
     "shell.execute_reply": "2022-10-08T09:05:44.134607Z",
     "shell.execute_reply.started": "2022-10-08T09:05:44.129402Z"
    }
   },
   "outputs": [
    {
     "name": "stdout",
     "output_type": "stream",
     "text": [
      "Shape of the dataset is (111, 6)\n"
     ]
    }
   ],
   "source": [
    "#Shape of the dataset\n",
    "print(\"Shape of the dataset is\",best_selling.shape)"
   ]
  },
  {
   "cell_type": "code",
   "execution_count": 16,
   "metadata": {
    "execution": {
     "iopub.execute_input": "2022-10-08T09:06:14.341316Z",
     "iopub.status.busy": "2022-10-08T09:06:14.340915Z",
     "iopub.status.idle": "2022-10-08T09:06:14.35593Z",
     "shell.execute_reply": "2022-10-08T09:06:14.35456Z",
     "shell.execute_reply.started": "2022-10-08T09:06:14.341285Z"
    }
   },
   "outputs": [
    {
     "name": "stdout",
     "output_type": "stream",
     "text": [
      "<class 'pandas.core.frame.DataFrame'>\n",
      "RangeIndex: 111 entries, 0 to 110\n",
      "Data columns (total 6 columns):\n",
      " #   Column        Non-Null Count  Dtype  \n",
      "---  ------        --------------  -----  \n",
      " 0   manufacturer  111 non-null    object \n",
      " 1   model         111 non-null    object \n",
      " 2   form          111 non-null    object \n",
      " 3   smartphone    111 non-null    object \n",
      " 4   year          111 non-null    int64  \n",
      " 5   units_sold_m  111 non-null    float64\n",
      "dtypes: float64(1), int64(1), object(4)\n",
      "memory usage: 5.3+ KB\n"
     ]
    }
   ],
   "source": [
    "#information about the dataset\n",
    "best_selling.info()"
   ]
  },
  {
   "cell_type": "markdown",
   "metadata": {},
   "source": [
    "**Insight:**\n",
    "Only year and units_sold_m are numeric datatypes."
   ]
  },
  {
   "cell_type": "code",
   "execution_count": 17,
   "metadata": {
    "execution": {
     "iopub.execute_input": "2022-10-08T09:07:26.412785Z",
     "iopub.status.busy": "2022-10-08T09:07:26.412056Z",
     "iopub.status.idle": "2022-10-08T09:07:26.426349Z",
     "shell.execute_reply": "2022-10-08T09:07:26.424948Z",
     "shell.execute_reply.started": "2022-10-08T09:07:26.412737Z"
    }
   },
   "outputs": [
    {
     "data": {
      "text/plain": [
       "manufacturer  model  form   smartphone  year   units_sold_m\n",
       "False         False  False  False       False  False           111\n",
       "dtype: int64"
      ]
     },
     "execution_count": 17,
     "metadata": {},
     "output_type": "execute_result"
    }
   ],
   "source": [
    "#check for null values\n",
    "best_selling.isna().value_counts()"
   ]
  },
  {
   "cell_type": "markdown",
   "metadata": {},
   "source": [
    "**Insight:**\n",
    "No Null value found in the dataset."
   ]
  },
  {
   "cell_type": "markdown",
   "metadata": {},
   "source": [
    "# Dataset Summary"
   ]
  },
  {
   "cell_type": "code",
   "execution_count": 18,
   "metadata": {
    "execution": {
     "iopub.execute_input": "2022-10-08T09:11:42.305269Z",
     "iopub.status.busy": "2022-10-08T09:11:42.304837Z",
     "iopub.status.idle": "2022-10-08T09:11:42.323463Z",
     "shell.execute_reply": "2022-10-08T09:11:42.32232Z",
     "shell.execute_reply.started": "2022-10-08T09:11:42.305237Z"
    }
   },
   "outputs": [
    {
     "data": {
      "text/html": [
       "<div>\n",
       "<style scoped>\n",
       "    .dataframe tbody tr th:only-of-type {\n",
       "        vertical-align: middle;\n",
       "    }\n",
       "\n",
       "    .dataframe tbody tr th {\n",
       "        vertical-align: top;\n",
       "    }\n",
       "\n",
       "    .dataframe thead th {\n",
       "        text-align: right;\n",
       "    }\n",
       "</style>\n",
       "<table border=\"1\" class=\"dataframe\">\n",
       "  <thead>\n",
       "    <tr style=\"text-align: right;\">\n",
       "      <th></th>\n",
       "      <th>manufacturer</th>\n",
       "      <th>model</th>\n",
       "      <th>form</th>\n",
       "      <th>smartphone</th>\n",
       "      <th>year</th>\n",
       "      <th>units_sold_m</th>\n",
       "    </tr>\n",
       "  </thead>\n",
       "  <tbody>\n",
       "    <tr>\n",
       "      <th>0</th>\n",
       "      <td>Nokia</td>\n",
       "      <td>1100</td>\n",
       "      <td>Bar</td>\n",
       "      <td>No</td>\n",
       "      <td>2003</td>\n",
       "      <td>250.0</td>\n",
       "    </tr>\n",
       "    <tr>\n",
       "      <th>1</th>\n",
       "      <td>Nokia</td>\n",
       "      <td>1110</td>\n",
       "      <td>Bar</td>\n",
       "      <td>No</td>\n",
       "      <td>2005</td>\n",
       "      <td>247.5</td>\n",
       "    </tr>\n",
       "    <tr>\n",
       "      <th>2</th>\n",
       "      <td>Apple</td>\n",
       "      <td>iPhone 6 and iPhone 6 Plus</td>\n",
       "      <td>Touchscreen</td>\n",
       "      <td>Yes</td>\n",
       "      <td>2014</td>\n",
       "      <td>224.0</td>\n",
       "    </tr>\n",
       "    <tr>\n",
       "      <th>3</th>\n",
       "      <td>Nokia</td>\n",
       "      <td>105 (2013), 105 (2015)</td>\n",
       "      <td>Bar</td>\n",
       "      <td>No</td>\n",
       "      <td>2013</td>\n",
       "      <td>200.0</td>\n",
       "    </tr>\n",
       "    <tr>\n",
       "      <th>4</th>\n",
       "      <td>Apple</td>\n",
       "      <td>iPhone 6S and iPhone 6S Plus</td>\n",
       "      <td>Touchscreen</td>\n",
       "      <td>Yes</td>\n",
       "      <td>2015</td>\n",
       "      <td>174.1</td>\n",
       "    </tr>\n",
       "    <tr>\n",
       "      <th>...</th>\n",
       "      <td>...</td>\n",
       "      <td>...</td>\n",
       "      <td>...</td>\n",
       "      <td>...</td>\n",
       "      <td>...</td>\n",
       "      <td>...</td>\n",
       "    </tr>\n",
       "    <tr>\n",
       "      <th>106</th>\n",
       "      <td>LG</td>\n",
       "      <td>G2</td>\n",
       "      <td>Touchscreen</td>\n",
       "      <td>Yes</td>\n",
       "      <td>2013</td>\n",
       "      <td>3.0</td>\n",
       "    </tr>\n",
       "    <tr>\n",
       "      <th>107</th>\n",
       "      <td>LeTV</td>\n",
       "      <td>LeEco Le 1s</td>\n",
       "      <td>Touchscreen</td>\n",
       "      <td>Yes</td>\n",
       "      <td>2016</td>\n",
       "      <td>3.0</td>\n",
       "    </tr>\n",
       "    <tr>\n",
       "      <th>108</th>\n",
       "      <td>Google</td>\n",
       "      <td>Pixel and Pixel XL</td>\n",
       "      <td>Touchscreen</td>\n",
       "      <td>Yes</td>\n",
       "      <td>2016</td>\n",
       "      <td>2.1</td>\n",
       "    </tr>\n",
       "    <tr>\n",
       "      <th>109</th>\n",
       "      <td>Palm</td>\n",
       "      <td>Centro</td>\n",
       "      <td>Keyboard bar</td>\n",
       "      <td>Yes</td>\n",
       "      <td>2007</td>\n",
       "      <td>2.0</td>\n",
       "    </tr>\n",
       "    <tr>\n",
       "      <th>110</th>\n",
       "      <td>Nokia</td>\n",
       "      <td>N97</td>\n",
       "      <td>Tilt slider</td>\n",
       "      <td>Yes</td>\n",
       "      <td>2009</td>\n",
       "      <td>2.0</td>\n",
       "    </tr>\n",
       "  </tbody>\n",
       "</table>\n",
       "<p>111 rows × 6 columns</p>\n",
       "</div>"
      ],
      "text/plain": [
       "    manufacturer                         model          form smartphone  year  \\\n",
       "0          Nokia                          1100           Bar         No  2003   \n",
       "1          Nokia                          1110           Bar         No  2005   \n",
       "2          Apple    iPhone 6 and iPhone 6 Plus   Touchscreen        Yes  2014   \n",
       "3          Nokia        105 (2013), 105 (2015)           Bar         No  2013   \n",
       "4          Apple  iPhone 6S and iPhone 6S Plus   Touchscreen        Yes  2015   \n",
       "..           ...                           ...           ...        ...   ...   \n",
       "106           LG                            G2   Touchscreen        Yes  2013   \n",
       "107         LeTV                   LeEco Le 1s   Touchscreen        Yes  2016   \n",
       "108       Google            Pixel and Pixel XL   Touchscreen        Yes  2016   \n",
       "109         Palm                        Centro  Keyboard bar        Yes  2007   \n",
       "110        Nokia                           N97   Tilt slider        Yes  2009   \n",
       "\n",
       "     units_sold_m  \n",
       "0           250.0  \n",
       "1           247.5  \n",
       "2           224.0  \n",
       "3           200.0  \n",
       "4           174.1  \n",
       "..            ...  \n",
       "106           3.0  \n",
       "107           3.0  \n",
       "108           2.1  \n",
       "109           2.0  \n",
       "110           2.0  \n",
       "\n",
       "[111 rows x 6 columns]"
      ]
     },
     "execution_count": 18,
     "metadata": {},
     "output_type": "execute_result"
    }
   ],
   "source": [
    "best_selling"
   ]
  },
  {
   "cell_type": "code",
   "execution_count": 19,
   "metadata": {
    "execution": {
     "iopub.execute_input": "2022-10-08T09:12:00.86718Z",
     "iopub.status.busy": "2022-10-08T09:12:00.86675Z",
     "iopub.status.idle": "2022-10-08T09:12:00.877699Z",
     "shell.execute_reply": "2022-10-08T09:12:00.876518Z",
     "shell.execute_reply.started": "2022-10-08T09:12:00.867144Z"
    }
   },
   "outputs": [
    {
     "data": {
      "text/plain": [
       "count     111.000000\n",
       "mean     2011.864865\n",
       "std         6.147411\n",
       "min      1996.000000\n",
       "25%      2007.000000\n",
       "50%      2012.000000\n",
       "75%      2018.000000\n",
       "max      2021.000000\n",
       "Name: year, dtype: float64"
      ]
     },
     "execution_count": 19,
     "metadata": {},
     "output_type": "execute_result"
    }
   ],
   "source": [
    "best_selling[\"year\"].describe()"
   ]
  },
  {
   "cell_type": "markdown",
   "metadata": {},
   "source": [
    "**Insight:**\n",
    "Dataset is starting from 1996 to 2021.\n",
    "This means we have the best-selling phones from 1996 to 2021 in this dataset."
   ]
  },
  {
   "cell_type": "code",
   "execution_count": 20,
   "metadata": {
    "execution": {
     "iopub.execute_input": "2022-10-08T09:12:28.398316Z",
     "iopub.status.busy": "2022-10-08T09:12:28.397897Z",
     "iopub.status.idle": "2022-10-08T09:12:28.411807Z",
     "shell.execute_reply": "2022-10-08T09:12:28.41045Z",
     "shell.execute_reply.started": "2022-10-08T09:12:28.398281Z"
    }
   },
   "outputs": [
    {
     "data": {
      "text/plain": [
       "count    111.000000\n",
       "mean      50.447748\n",
       "std       59.167349\n",
       "min        2.000000\n",
       "25%       10.000000\n",
       "50%       24.200000\n",
       "75%       60.000000\n",
       "max      250.000000\n",
       "Name: units_sold_m, dtype: float64"
      ]
     },
     "execution_count": 20,
     "metadata": {},
     "output_type": "execute_result"
    }
   ],
   "source": [
    "best_selling[\"units_sold_m\"].describe()"
   ]
  },
  {
   "cell_type": "markdown",
   "metadata": {},
   "source": [
    "**Insight:**\n",
    "* The maximum number of units of phones sold by the company is 250 million.\n",
    "* The minimum number of units of phones sold by the company is 2 million.\n",
    "\n"
   ]
  },
  {
   "cell_type": "code",
   "execution_count": 21,
   "metadata": {
    "execution": {
     "iopub.execute_input": "2022-10-08T09:20:10.655193Z",
     "iopub.status.busy": "2022-10-08T09:20:10.654753Z",
     "iopub.status.idle": "2022-10-08T09:20:10.675202Z",
     "shell.execute_reply": "2022-10-08T09:20:10.674049Z",
     "shell.execute_reply.started": "2022-10-08T09:20:10.655158Z"
    }
   },
   "outputs": [
    {
     "data": {
      "text/html": [
       "<div>\n",
       "<style scoped>\n",
       "    .dataframe tbody tr th:only-of-type {\n",
       "        vertical-align: middle;\n",
       "    }\n",
       "\n",
       "    .dataframe tbody tr th {\n",
       "        vertical-align: top;\n",
       "    }\n",
       "\n",
       "    .dataframe thead th {\n",
       "        text-align: right;\n",
       "    }\n",
       "</style>\n",
       "<table border=\"1\" class=\"dataframe\">\n",
       "  <thead>\n",
       "    <tr style=\"text-align: right;\">\n",
       "      <th></th>\n",
       "      <th>manufacturer</th>\n",
       "      <th>model</th>\n",
       "      <th>form</th>\n",
       "      <th>smartphone</th>\n",
       "      <th>year</th>\n",
       "      <th>units_sold_m</th>\n",
       "    </tr>\n",
       "  </thead>\n",
       "  <tbody>\n",
       "    <tr>\n",
       "      <th>0</th>\n",
       "      <td>Nokia</td>\n",
       "      <td>1100</td>\n",
       "      <td>Bar</td>\n",
       "      <td>No</td>\n",
       "      <td>2003</td>\n",
       "      <td>250.0</td>\n",
       "    </tr>\n",
       "    <tr>\n",
       "      <th>1</th>\n",
       "      <td>Nokia</td>\n",
       "      <td>1110</td>\n",
       "      <td>Bar</td>\n",
       "      <td>No</td>\n",
       "      <td>2005</td>\n",
       "      <td>247.5</td>\n",
       "    </tr>\n",
       "    <tr>\n",
       "      <th>2</th>\n",
       "      <td>Apple</td>\n",
       "      <td>iPhone 6 and iPhone 6 Plus</td>\n",
       "      <td>Touchscreen</td>\n",
       "      <td>Yes</td>\n",
       "      <td>2014</td>\n",
       "      <td>224.0</td>\n",
       "    </tr>\n",
       "    <tr>\n",
       "      <th>3</th>\n",
       "      <td>Nokia</td>\n",
       "      <td>105 (2013), 105 (2015)</td>\n",
       "      <td>Bar</td>\n",
       "      <td>No</td>\n",
       "      <td>2013</td>\n",
       "      <td>200.0</td>\n",
       "    </tr>\n",
       "    <tr>\n",
       "      <th>4</th>\n",
       "      <td>Apple</td>\n",
       "      <td>iPhone 6S and iPhone 6S Plus</td>\n",
       "      <td>Touchscreen</td>\n",
       "      <td>Yes</td>\n",
       "      <td>2015</td>\n",
       "      <td>174.1</td>\n",
       "    </tr>\n",
       "    <tr>\n",
       "      <th>...</th>\n",
       "      <td>...</td>\n",
       "      <td>...</td>\n",
       "      <td>...</td>\n",
       "      <td>...</td>\n",
       "      <td>...</td>\n",
       "      <td>...</td>\n",
       "    </tr>\n",
       "    <tr>\n",
       "      <th>106</th>\n",
       "      <td>LG</td>\n",
       "      <td>G2</td>\n",
       "      <td>Touchscreen</td>\n",
       "      <td>Yes</td>\n",
       "      <td>2013</td>\n",
       "      <td>3.0</td>\n",
       "    </tr>\n",
       "    <tr>\n",
       "      <th>107</th>\n",
       "      <td>LeTV</td>\n",
       "      <td>LeEco Le 1s</td>\n",
       "      <td>Touchscreen</td>\n",
       "      <td>Yes</td>\n",
       "      <td>2016</td>\n",
       "      <td>3.0</td>\n",
       "    </tr>\n",
       "    <tr>\n",
       "      <th>108</th>\n",
       "      <td>Google</td>\n",
       "      <td>Pixel and Pixel XL</td>\n",
       "      <td>Touchscreen</td>\n",
       "      <td>Yes</td>\n",
       "      <td>2016</td>\n",
       "      <td>2.1</td>\n",
       "    </tr>\n",
       "    <tr>\n",
       "      <th>109</th>\n",
       "      <td>Palm</td>\n",
       "      <td>Centro</td>\n",
       "      <td>Keyboard bar</td>\n",
       "      <td>Yes</td>\n",
       "      <td>2007</td>\n",
       "      <td>2.0</td>\n",
       "    </tr>\n",
       "    <tr>\n",
       "      <th>110</th>\n",
       "      <td>Nokia</td>\n",
       "      <td>N97</td>\n",
       "      <td>Tilt slider</td>\n",
       "      <td>Yes</td>\n",
       "      <td>2009</td>\n",
       "      <td>2.0</td>\n",
       "    </tr>\n",
       "  </tbody>\n",
       "</table>\n",
       "<p>111 rows × 6 columns</p>\n",
       "</div>"
      ],
      "text/plain": [
       "    manufacturer                         model          form smartphone  year  \\\n",
       "0          Nokia                          1100           Bar         No  2003   \n",
       "1          Nokia                          1110           Bar         No  2005   \n",
       "2          Apple    iPhone 6 and iPhone 6 Plus   Touchscreen        Yes  2014   \n",
       "3          Nokia        105 (2013), 105 (2015)           Bar         No  2013   \n",
       "4          Apple  iPhone 6S and iPhone 6S Plus   Touchscreen        Yes  2015   \n",
       "..           ...                           ...           ...        ...   ...   \n",
       "106           LG                            G2   Touchscreen        Yes  2013   \n",
       "107         LeTV                   LeEco Le 1s   Touchscreen        Yes  2016   \n",
       "108       Google            Pixel and Pixel XL   Touchscreen        Yes  2016   \n",
       "109         Palm                        Centro  Keyboard bar        Yes  2007   \n",
       "110        Nokia                           N97   Tilt slider        Yes  2009   \n",
       "\n",
       "     units_sold_m  \n",
       "0           250.0  \n",
       "1           247.5  \n",
       "2           224.0  \n",
       "3           200.0  \n",
       "4           174.1  \n",
       "..            ...  \n",
       "106           3.0  \n",
       "107           3.0  \n",
       "108           2.1  \n",
       "109           2.0  \n",
       "110           2.0  \n",
       "\n",
       "[111 rows x 6 columns]"
      ]
     },
     "execution_count": 21,
     "metadata": {},
     "output_type": "execute_result"
    }
   ],
   "source": [
    "best_selling"
   ]
  },
  {
   "cell_type": "markdown",
   "metadata": {},
   "source": [
    "**Insight:**\n",
    "* Nokia 1100 sold 250 million units.\n",
    "* Nokia N97 sold 2 million units."
   ]
  },
  {
   "cell_type": "code",
   "execution_count": 22,
   "metadata": {
    "execution": {
     "iopub.execute_input": "2022-10-08T09:29:50.877449Z",
     "iopub.status.busy": "2022-10-08T09:29:50.877013Z",
     "iopub.status.idle": "2022-10-08T09:29:50.897247Z",
     "shell.execute_reply": "2022-10-08T09:29:50.896012Z",
     "shell.execute_reply.started": "2022-10-08T09:29:50.877413Z"
    }
   },
   "outputs": [
    {
     "data": {
      "text/html": [
       "<div>\n",
       "<style scoped>\n",
       "    .dataframe tbody tr th:only-of-type {\n",
       "        vertical-align: middle;\n",
       "    }\n",
       "\n",
       "    .dataframe tbody tr th {\n",
       "        vertical-align: top;\n",
       "    }\n",
       "\n",
       "    .dataframe thead th {\n",
       "        text-align: right;\n",
       "    }\n",
       "</style>\n",
       "<table border=\"1\" class=\"dataframe\">\n",
       "  <thead>\n",
       "    <tr style=\"text-align: right;\">\n",
       "      <th></th>\n",
       "      <th>manufacturer</th>\n",
       "      <th>model</th>\n",
       "      <th>form</th>\n",
       "      <th>smartphone</th>\n",
       "      <th>year</th>\n",
       "      <th>units_sold_m</th>\n",
       "    </tr>\n",
       "  </thead>\n",
       "  <tbody>\n",
       "    <tr>\n",
       "      <th>0</th>\n",
       "      <td>Nokia</td>\n",
       "      <td>1100</td>\n",
       "      <td>Bar</td>\n",
       "      <td>No</td>\n",
       "      <td>2003</td>\n",
       "      <td>250.0</td>\n",
       "    </tr>\n",
       "    <tr>\n",
       "      <th>1</th>\n",
       "      <td>Nokia</td>\n",
       "      <td>1110</td>\n",
       "      <td>Bar</td>\n",
       "      <td>No</td>\n",
       "      <td>2005</td>\n",
       "      <td>247.5</td>\n",
       "    </tr>\n",
       "    <tr>\n",
       "      <th>2</th>\n",
       "      <td>Apple</td>\n",
       "      <td>iPhone 6 and iPhone 6 Plus</td>\n",
       "      <td>Touchscreen</td>\n",
       "      <td>Yes</td>\n",
       "      <td>2014</td>\n",
       "      <td>224.0</td>\n",
       "    </tr>\n",
       "    <tr>\n",
       "      <th>3</th>\n",
       "      <td>Nokia</td>\n",
       "      <td>105 (2013), 105 (2015)</td>\n",
       "      <td>Bar</td>\n",
       "      <td>No</td>\n",
       "      <td>2013</td>\n",
       "      <td>200.0</td>\n",
       "    </tr>\n",
       "    <tr>\n",
       "      <th>4</th>\n",
       "      <td>Apple</td>\n",
       "      <td>iPhone 6S and iPhone 6S Plus</td>\n",
       "      <td>Touchscreen</td>\n",
       "      <td>Yes</td>\n",
       "      <td>2015</td>\n",
       "      <td>174.1</td>\n",
       "    </tr>\n",
       "    <tr>\n",
       "      <th>...</th>\n",
       "      <td>...</td>\n",
       "      <td>...</td>\n",
       "      <td>...</td>\n",
       "      <td>...</td>\n",
       "      <td>...</td>\n",
       "      <td>...</td>\n",
       "    </tr>\n",
       "    <tr>\n",
       "      <th>106</th>\n",
       "      <td>LG</td>\n",
       "      <td>G2</td>\n",
       "      <td>Touchscreen</td>\n",
       "      <td>Yes</td>\n",
       "      <td>2013</td>\n",
       "      <td>3.0</td>\n",
       "    </tr>\n",
       "    <tr>\n",
       "      <th>107</th>\n",
       "      <td>LeTV</td>\n",
       "      <td>LeEco Le 1s</td>\n",
       "      <td>Touchscreen</td>\n",
       "      <td>Yes</td>\n",
       "      <td>2016</td>\n",
       "      <td>3.0</td>\n",
       "    </tr>\n",
       "    <tr>\n",
       "      <th>108</th>\n",
       "      <td>Google</td>\n",
       "      <td>Pixel and Pixel XL</td>\n",
       "      <td>Touchscreen</td>\n",
       "      <td>Yes</td>\n",
       "      <td>2016</td>\n",
       "      <td>2.1</td>\n",
       "    </tr>\n",
       "    <tr>\n",
       "      <th>109</th>\n",
       "      <td>Palm</td>\n",
       "      <td>Centro</td>\n",
       "      <td>Keyboard bar</td>\n",
       "      <td>Yes</td>\n",
       "      <td>2007</td>\n",
       "      <td>2.0</td>\n",
       "    </tr>\n",
       "    <tr>\n",
       "      <th>110</th>\n",
       "      <td>Nokia</td>\n",
       "      <td>N97</td>\n",
       "      <td>Tilt slider</td>\n",
       "      <td>Yes</td>\n",
       "      <td>2009</td>\n",
       "      <td>2.0</td>\n",
       "    </tr>\n",
       "  </tbody>\n",
       "</table>\n",
       "<p>111 rows × 6 columns</p>\n",
       "</div>"
      ],
      "text/plain": [
       "    manufacturer                         model          form smartphone  year  \\\n",
       "0          Nokia                          1100           Bar         No  2003   \n",
       "1          Nokia                          1110           Bar         No  2005   \n",
       "2          Apple    iPhone 6 and iPhone 6 Plus   Touchscreen        Yes  2014   \n",
       "3          Nokia        105 (2013), 105 (2015)           Bar         No  2013   \n",
       "4          Apple  iPhone 6S and iPhone 6S Plus   Touchscreen        Yes  2015   \n",
       "..           ...                           ...           ...        ...   ...   \n",
       "106           LG                            G2   Touchscreen        Yes  2013   \n",
       "107         LeTV                   LeEco Le 1s   Touchscreen        Yes  2016   \n",
       "108       Google            Pixel and Pixel XL   Touchscreen        Yes  2016   \n",
       "109         Palm                        Centro  Keyboard bar        Yes  2007   \n",
       "110        Nokia                           N97   Tilt slider        Yes  2009   \n",
       "\n",
       "     units_sold_m  \n",
       "0           250.0  \n",
       "1           247.5  \n",
       "2           224.0  \n",
       "3           200.0  \n",
       "4           174.1  \n",
       "..            ...  \n",
       "106           3.0  \n",
       "107           3.0  \n",
       "108           2.1  \n",
       "109           2.0  \n",
       "110           2.0  \n",
       "\n",
       "[111 rows x 6 columns]"
      ]
     },
     "execution_count": 22,
     "metadata": {},
     "output_type": "execute_result"
    }
   ],
   "source": [
    "best_selling"
   ]
  },
  {
   "cell_type": "code",
   "execution_count": 23,
   "metadata": {
    "execution": {
     "iopub.execute_input": "2022-10-08T09:47:43.966134Z",
     "iopub.status.busy": "2022-10-08T09:47:43.965702Z",
     "iopub.status.idle": "2022-10-08T09:47:43.981587Z",
     "shell.execute_reply": "2022-10-08T09:47:43.980321Z",
     "shell.execute_reply.started": "2022-10-08T09:47:43.966098Z"
    }
   },
   "outputs": [
    {
     "data": {
      "text/html": [
       "<div>\n",
       "<style scoped>\n",
       "    .dataframe tbody tr th:only-of-type {\n",
       "        vertical-align: middle;\n",
       "    }\n",
       "\n",
       "    .dataframe tbody tr th {\n",
       "        vertical-align: top;\n",
       "    }\n",
       "\n",
       "    .dataframe thead th {\n",
       "        text-align: right;\n",
       "    }\n",
       "</style>\n",
       "<table border=\"1\" class=\"dataframe\">\n",
       "  <thead>\n",
       "    <tr style=\"text-align: right;\">\n",
       "      <th></th>\n",
       "      <th>manufacturer</th>\n",
       "      <th>model</th>\n",
       "      <th>form</th>\n",
       "      <th>smartphone</th>\n",
       "      <th>year</th>\n",
       "      <th>units_sold_m</th>\n",
       "    </tr>\n",
       "  </thead>\n",
       "  <tbody>\n",
       "    <tr>\n",
       "      <th>0</th>\n",
       "      <td>Nokia</td>\n",
       "      <td>1100</td>\n",
       "      <td>Bar</td>\n",
       "      <td>No</td>\n",
       "      <td>2003</td>\n",
       "      <td>250.0</td>\n",
       "    </tr>\n",
       "    <tr>\n",
       "      <th>1</th>\n",
       "      <td>Nokia</td>\n",
       "      <td>1110</td>\n",
       "      <td>Bar</td>\n",
       "      <td>No</td>\n",
       "      <td>2005</td>\n",
       "      <td>247.5</td>\n",
       "    </tr>\n",
       "    <tr>\n",
       "      <th>2</th>\n",
       "      <td>Apple</td>\n",
       "      <td>iPhone 6 and iPhone 6 Plus</td>\n",
       "      <td>Touchscreen</td>\n",
       "      <td>Yes</td>\n",
       "      <td>2014</td>\n",
       "      <td>224.0</td>\n",
       "    </tr>\n",
       "    <tr>\n",
       "      <th>3</th>\n",
       "      <td>Nokia</td>\n",
       "      <td>105 (2013), 105 (2015)</td>\n",
       "      <td>Bar</td>\n",
       "      <td>No</td>\n",
       "      <td>2013</td>\n",
       "      <td>200.0</td>\n",
       "    </tr>\n",
       "    <tr>\n",
       "      <th>4</th>\n",
       "      <td>Apple</td>\n",
       "      <td>iPhone 6S and iPhone 6S Plus</td>\n",
       "      <td>Touchscreen</td>\n",
       "      <td>Yes</td>\n",
       "      <td>2015</td>\n",
       "      <td>174.1</td>\n",
       "    </tr>\n",
       "    <tr>\n",
       "      <th>5</th>\n",
       "      <td>Apple</td>\n",
       "      <td>iPhone 5S</td>\n",
       "      <td>Touchscreen</td>\n",
       "      <td>Yes</td>\n",
       "      <td>2013</td>\n",
       "      <td>164.5</td>\n",
       "    </tr>\n",
       "    <tr>\n",
       "      <th>6</th>\n",
       "      <td>Nokia</td>\n",
       "      <td>3210</td>\n",
       "      <td>Bar</td>\n",
       "      <td>No</td>\n",
       "      <td>1999</td>\n",
       "      <td>161.0</td>\n",
       "    </tr>\n",
       "    <tr>\n",
       "      <th>7</th>\n",
       "      <td>Apple</td>\n",
       "      <td>iPhone 7 and iPhone 7 Plus</td>\n",
       "      <td>Touchscreen</td>\n",
       "      <td>Yes</td>\n",
       "      <td>2016</td>\n",
       "      <td>159.9</td>\n",
       "    </tr>\n",
       "    <tr>\n",
       "      <th>8</th>\n",
       "      <td>Apple</td>\n",
       "      <td>iPhone 11, iPhone 11 Pro and iPhone 11 Pro Max</td>\n",
       "      <td>Touchscreen</td>\n",
       "      <td>Yes</td>\n",
       "      <td>2019</td>\n",
       "      <td>159.2</td>\n",
       "    </tr>\n",
       "    <tr>\n",
       "      <th>9</th>\n",
       "      <td>Apple</td>\n",
       "      <td>iPhone XR, iPhone XS and iPhone XS Max</td>\n",
       "      <td>Touchscreen</td>\n",
       "      <td>Yes</td>\n",
       "      <td>2018</td>\n",
       "      <td>151.1</td>\n",
       "    </tr>\n",
       "  </tbody>\n",
       "</table>\n",
       "</div>"
      ],
      "text/plain": [
       "  manufacturer                                           model         form  \\\n",
       "0        Nokia                                            1100          Bar   \n",
       "1        Nokia                                            1110          Bar   \n",
       "2        Apple                      iPhone 6 and iPhone 6 Plus  Touchscreen   \n",
       "3        Nokia                          105 (2013), 105 (2015)          Bar   \n",
       "4        Apple                    iPhone 6S and iPhone 6S Plus  Touchscreen   \n",
       "5        Apple                                       iPhone 5S  Touchscreen   \n",
       "6        Nokia                                            3210          Bar   \n",
       "7        Apple                      iPhone 7 and iPhone 7 Plus  Touchscreen   \n",
       "8        Apple  iPhone 11, iPhone 11 Pro and iPhone 11 Pro Max  Touchscreen   \n",
       "9        Apple          iPhone XR, iPhone XS and iPhone XS Max  Touchscreen   \n",
       "\n",
       "  smartphone  year  units_sold_m  \n",
       "0         No  2003         250.0  \n",
       "1         No  2005         247.5  \n",
       "2        Yes  2014         224.0  \n",
       "3         No  2013         200.0  \n",
       "4        Yes  2015         174.1  \n",
       "5        Yes  2013         164.5  \n",
       "6         No  1999         161.0  \n",
       "7        Yes  2016         159.9  \n",
       "8        Yes  2019         159.2  \n",
       "9        Yes  2018         151.1  "
      ]
     },
     "execution_count": 23,
     "metadata": {},
     "output_type": "execute_result"
    }
   ],
   "source": [
    "top_10 = best_selling.head(10) #top 10 most sold phones\n",
    "top_10"
   ]
  },
  {
   "cell_type": "code",
   "execution_count": 24,
   "metadata": {
    "execution": {
     "iopub.execute_input": "2022-10-08T10:25:13.317395Z",
     "iopub.status.busy": "2022-10-08T10:25:13.316588Z",
     "iopub.status.idle": "2022-10-08T10:25:13.326931Z",
     "shell.execute_reply": "2022-10-08T10:25:13.325824Z",
     "shell.execute_reply.started": "2022-10-08T10:25:13.317353Z"
    }
   },
   "outputs": [
    {
     "data": {
      "text/plain": [
       "Apple    6\n",
       "Nokia    4\n",
       "Name: manufacturer, dtype: int64"
      ]
     },
     "execution_count": 24,
     "metadata": {},
     "output_type": "execute_result"
    }
   ],
   "source": [
    "top_10[\"manufacturer\"].value_counts()"
   ]
  },
  {
   "cell_type": "markdown",
   "metadata": {},
   "source": [
    "**Insight:**\n",
    "All the top 10 phones are sold by Nokia and Apple."
   ]
  },
  {
   "cell_type": "code",
   "execution_count": 25,
   "metadata": {
    "execution": {
     "iopub.execute_input": "2022-10-08T10:24:31.234094Z",
     "iopub.status.busy": "2022-10-08T10:24:31.233639Z",
     "iopub.status.idle": "2022-10-08T10:24:31.747095Z",
     "shell.execute_reply": "2022-10-08T10:24:31.74598Z",
     "shell.execute_reply.started": "2022-10-08T10:24:31.234056Z"
    },
    "scrolled": true
   },
   "outputs": [
    {
     "data": {
      "text/plain": [
       "<AxesSubplot:xlabel='units_sold_m', ylabel='model'>"
      ]
     },
     "execution_count": 25,
     "metadata": {},
     "output_type": "execute_result"
    },
    {
     "data": {
      "image/png": "[encoded data removed]",
      "text/plain": [
       "<Figure size 1080x720 with 1 Axes>"
      ]
     },
     "metadata": {},
     "output_type": "display_data"
    }
   ],
   "source": [
    "#top 10 most sold phones plot\n",
    "sns.set_theme()\n",
    "plt.figure(figsize=(15,10))\n",
    "sns.barplot(data=top_10,y=\"model\",x=\"units_sold_m\",hue=\"smartphone\")\n"
   ]
  },
  {
   "cell_type": "code",
   "execution_count": 26,
   "metadata": {
    "execution": {
     "iopub.execute_input": "2022-10-08T09:59:46.073505Z",
     "iopub.status.busy": "2022-10-08T09:59:46.0731Z",
     "iopub.status.idle": "2022-10-08T09:59:46.591308Z",
     "shell.execute_reply": "2022-10-08T09:59:46.590128Z",
     "shell.execute_reply.started": "2022-10-08T09:59:46.073472Z"
    }
   },
   "outputs": [
    {
     "data": {
      "text/plain": [
       "<AxesSubplot:xlabel='units_sold_m', ylabel='model'>"
      ]
     },
     "execution_count": 26,
     "metadata": {},
     "output_type": "execute_result"
    },
    {
     "data": {
      "image/png": "[encoded data removed]",
      "text/plain": [
       "<Figure size 1080x720 with 1 Axes>"
      ]
     },
     "metadata": {},
     "output_type": "display_data"
    }
   ],
   "source": [
    "sns.set_theme()\n",
    "plt.figure(figsize=(15,10))\n",
    "sns.barplot(data=top_10,y=\"model\",x=\"units_sold_m\",hue=\"form\")\n"
   ]
  },
  {
   "cell_type": "code",
   "execution_count": 27,
   "metadata": {
    "execution": {
     "iopub.execute_input": "2022-10-08T10:02:37.204855Z",
     "iopub.status.busy": "2022-10-08T10:02:37.204395Z",
     "iopub.status.idle": "2022-10-08T10:02:37.22125Z",
     "shell.execute_reply": "2022-10-08T10:02:37.219987Z",
     "shell.execute_reply.started": "2022-10-08T10:02:37.204816Z"
    }
   },
   "outputs": [
    {
     "data": {
      "text/html": [
       "<div>\n",
       "<style scoped>\n",
       "    .dataframe tbody tr th:only-of-type {\n",
       "        vertical-align: middle;\n",
       "    }\n",
       "\n",
       "    .dataframe tbody tr th {\n",
       "        vertical-align: top;\n",
       "    }\n",
       "\n",
       "    .dataframe thead th {\n",
       "        text-align: right;\n",
       "    }\n",
       "</style>\n",
       "<table border=\"1\" class=\"dataframe\">\n",
       "  <thead>\n",
       "    <tr style=\"text-align: right;\">\n",
       "      <th></th>\n",
       "      <th>manufacturer</th>\n",
       "      <th>model</th>\n",
       "      <th>form</th>\n",
       "      <th>smartphone</th>\n",
       "      <th>year</th>\n",
       "      <th>units_sold_m</th>\n",
       "    </tr>\n",
       "  </thead>\n",
       "  <tbody>\n",
       "    <tr>\n",
       "      <th>101</th>\n",
       "      <td>Samsung</td>\n",
       "      <td>Galaxy J6+</td>\n",
       "      <td>Touchscreen</td>\n",
       "      <td>Yes</td>\n",
       "      <td>2018</td>\n",
       "      <td>4.9</td>\n",
       "    </tr>\n",
       "    <tr>\n",
       "      <th>102</th>\n",
       "      <td>Samsung</td>\n",
       "      <td>Galaxy Note 4</td>\n",
       "      <td>Touchscreen</td>\n",
       "      <td>Yes</td>\n",
       "      <td>2014</td>\n",
       "      <td>4.5</td>\n",
       "    </tr>\n",
       "    <tr>\n",
       "      <th>103</th>\n",
       "      <td>Samsung</td>\n",
       "      <td>Galaxy A10s</td>\n",
       "      <td>Touchscreen</td>\n",
       "      <td>Yes</td>\n",
       "      <td>2019</td>\n",
       "      <td>3.9</td>\n",
       "    </tr>\n",
       "    <tr>\n",
       "      <th>104</th>\n",
       "      <td>Samsung</td>\n",
       "      <td>Galaxy A30s</td>\n",
       "      <td>Touchscreen</td>\n",
       "      <td>Yes</td>\n",
       "      <td>2019</td>\n",
       "      <td>3.4</td>\n",
       "    </tr>\n",
       "    <tr>\n",
       "      <th>105</th>\n",
       "      <td>Nokia</td>\n",
       "      <td>N-Gage</td>\n",
       "      <td>Taco</td>\n",
       "      <td>Yes</td>\n",
       "      <td>2003</td>\n",
       "      <td>3.0</td>\n",
       "    </tr>\n",
       "    <tr>\n",
       "      <th>106</th>\n",
       "      <td>LG</td>\n",
       "      <td>G2</td>\n",
       "      <td>Touchscreen</td>\n",
       "      <td>Yes</td>\n",
       "      <td>2013</td>\n",
       "      <td>3.0</td>\n",
       "    </tr>\n",
       "    <tr>\n",
       "      <th>107</th>\n",
       "      <td>LeTV</td>\n",
       "      <td>LeEco Le 1s</td>\n",
       "      <td>Touchscreen</td>\n",
       "      <td>Yes</td>\n",
       "      <td>2016</td>\n",
       "      <td>3.0</td>\n",
       "    </tr>\n",
       "    <tr>\n",
       "      <th>108</th>\n",
       "      <td>Google</td>\n",
       "      <td>Pixel and Pixel XL</td>\n",
       "      <td>Touchscreen</td>\n",
       "      <td>Yes</td>\n",
       "      <td>2016</td>\n",
       "      <td>2.1</td>\n",
       "    </tr>\n",
       "    <tr>\n",
       "      <th>109</th>\n",
       "      <td>Palm</td>\n",
       "      <td>Centro</td>\n",
       "      <td>Keyboard bar</td>\n",
       "      <td>Yes</td>\n",
       "      <td>2007</td>\n",
       "      <td>2.0</td>\n",
       "    </tr>\n",
       "    <tr>\n",
       "      <th>110</th>\n",
       "      <td>Nokia</td>\n",
       "      <td>N97</td>\n",
       "      <td>Tilt slider</td>\n",
       "      <td>Yes</td>\n",
       "      <td>2009</td>\n",
       "      <td>2.0</td>\n",
       "    </tr>\n",
       "  </tbody>\n",
       "</table>\n",
       "</div>"
      ],
      "text/plain": [
       "    manufacturer               model          form smartphone  year  \\\n",
       "101      Samsung          Galaxy J6+   Touchscreen        Yes  2018   \n",
       "102      Samsung       Galaxy Note 4   Touchscreen        Yes  2014   \n",
       "103      Samsung         Galaxy A10s   Touchscreen        Yes  2019   \n",
       "104      Samsung         Galaxy A30s   Touchscreen        Yes  2019   \n",
       "105        Nokia              N-Gage          Taco        Yes  2003   \n",
       "106           LG                  G2   Touchscreen        Yes  2013   \n",
       "107         LeTV         LeEco Le 1s   Touchscreen        Yes  2016   \n",
       "108       Google  Pixel and Pixel XL   Touchscreen        Yes  2016   \n",
       "109         Palm              Centro  Keyboard bar        Yes  2007   \n",
       "110        Nokia                 N97   Tilt slider        Yes  2009   \n",
       "\n",
       "     units_sold_m  \n",
       "101           4.9  \n",
       "102           4.5  \n",
       "103           3.9  \n",
       "104           3.4  \n",
       "105           3.0  \n",
       "106           3.0  \n",
       "107           3.0  \n",
       "108           2.1  \n",
       "109           2.0  \n",
       "110           2.0  "
      ]
     },
     "execution_count": 27,
     "metadata": {},
     "output_type": "execute_result"
    }
   ],
   "source": [
    "least_10 = best_selling.tail(10) #least 10 sold phones\n",
    "least_10"
   ]
  },
  {
   "cell_type": "code",
   "execution_count": 28,
   "metadata": {
    "execution": {
     "iopub.execute_input": "2022-10-08T10:27:13.231957Z",
     "iopub.status.busy": "2022-10-08T10:27:13.231382Z",
     "iopub.status.idle": "2022-10-08T10:27:13.242932Z",
     "shell.execute_reply": "2022-10-08T10:27:13.241983Z",
     "shell.execute_reply.started": "2022-10-08T10:27:13.231906Z"
    }
   },
   "outputs": [
    {
     "data": {
      "text/plain": [
       "Samsung    4\n",
       "Nokia      2\n",
       "LG         1\n",
       "LeTV       1\n",
       "Google     1\n",
       "Palm       1\n",
       "Name: manufacturer, dtype: int64"
      ]
     },
     "execution_count": 28,
     "metadata": {},
     "output_type": "execute_result"
    }
   ],
   "source": [
    "least_10[\"manufacturer\"].value_counts()"
   ]
  },
  {
   "cell_type": "code",
   "execution_count": 29,
   "metadata": {
    "execution": {
     "iopub.execute_input": "2022-10-08T10:42:20.904279Z",
     "iopub.status.busy": "2022-10-08T10:42:20.903843Z",
     "iopub.status.idle": "2022-10-08T10:42:21.305155Z",
     "shell.execute_reply": "2022-10-08T10:42:21.304051Z",
     "shell.execute_reply.started": "2022-10-08T10:42:20.904245Z"
    }
   },
   "outputs": [
    {
     "data": {
      "text/plain": [
       "<AxesSubplot:xlabel='units_sold_m', ylabel='model'>"
      ]
     },
     "execution_count": 29,
     "metadata": {},
     "output_type": "execute_result"
    },
    {
     "data": {
      "image/png": "[encoded data removed]",
      "text/plain": [
       "<Figure size 1080x720 with 1 Axes>"
      ]
     },
     "metadata": {},
     "output_type": "display_data"
    }
   ],
   "source": [
    "#least 10 phones that are sold plot\n",
    "sns.set_theme()\n",
    "plt.figure(figsize=(15,10))\n",
    "sns.barplot(data=least_10,y=\"model\",x=\"units_sold_m\",hue=\"smartphone\")\n"
   ]
  },
  {
   "cell_type": "code",
   "execution_count": 30,
   "metadata": {
    "execution": {
     "iopub.execute_input": "2022-10-08T10:04:29.67498Z",
     "iopub.status.busy": "2022-10-08T10:04:29.674542Z",
     "iopub.status.idle": "2022-10-08T10:04:30.322521Z",
     "shell.execute_reply": "2022-10-08T10:04:30.321344Z",
     "shell.execute_reply.started": "2022-10-08T10:04:29.674939Z"
    }
   },
   "outputs": [
    {
     "data": {
      "text/plain": [
       "<AxesSubplot:xlabel='units_sold_m', ylabel='model'>"
      ]
     },
     "execution_count": 30,
     "metadata": {},
     "output_type": "execute_result"
    },
    {
     "data": {
      "image/png": "[encoded data removed]",
      "text/plain": [
       "<Figure size 1080x720 with 1 Axes>"
      ]
     },
     "metadata": {},
     "output_type": "display_data"
    }
   ],
   "source": [
    "sns.set_theme()\n",
    "plt.figure(figsize=(15,10))\n",
    "sns.barplot(data=least_10,y=\"model\",x=\"units_sold_m\",hue=\"form\")\n"
   ]
  },
  {
   "cell_type": "code",
   "execution_count": 31,
   "metadata": {
    "execution": {
     "iopub.execute_input": "2022-10-08T10:05:29.894097Z",
     "iopub.status.busy": "2022-10-08T10:05:29.89366Z",
     "iopub.status.idle": "2022-10-08T10:05:29.91503Z",
     "shell.execute_reply": "2022-10-08T10:05:29.913807Z",
     "shell.execute_reply.started": "2022-10-08T10:05:29.894061Z"
    }
   },
   "outputs": [
    {
     "data": {
      "text/html": [
       "<div>\n",
       "<style scoped>\n",
       "    .dataframe tbody tr th:only-of-type {\n",
       "        vertical-align: middle;\n",
       "    }\n",
       "\n",
       "    .dataframe tbody tr th {\n",
       "        vertical-align: top;\n",
       "    }\n",
       "\n",
       "    .dataframe thead th {\n",
       "        text-align: right;\n",
       "    }\n",
       "</style>\n",
       "<table border=\"1\" class=\"dataframe\">\n",
       "  <thead>\n",
       "    <tr style=\"text-align: right;\">\n",
       "      <th></th>\n",
       "      <th>manufacturer</th>\n",
       "      <th>model</th>\n",
       "      <th>form</th>\n",
       "      <th>smartphone</th>\n",
       "      <th>year</th>\n",
       "      <th>units_sold_m</th>\n",
       "    </tr>\n",
       "  </thead>\n",
       "  <tbody>\n",
       "    <tr>\n",
       "      <th>0</th>\n",
       "      <td>Nokia</td>\n",
       "      <td>1100</td>\n",
       "      <td>Bar</td>\n",
       "      <td>No</td>\n",
       "      <td>2003</td>\n",
       "      <td>250.0</td>\n",
       "    </tr>\n",
       "    <tr>\n",
       "      <th>1</th>\n",
       "      <td>Nokia</td>\n",
       "      <td>1110</td>\n",
       "      <td>Bar</td>\n",
       "      <td>No</td>\n",
       "      <td>2005</td>\n",
       "      <td>247.5</td>\n",
       "    </tr>\n",
       "    <tr>\n",
       "      <th>2</th>\n",
       "      <td>Apple</td>\n",
       "      <td>iPhone 6 and iPhone 6 Plus</td>\n",
       "      <td>Touchscreen</td>\n",
       "      <td>Yes</td>\n",
       "      <td>2014</td>\n",
       "      <td>224.0</td>\n",
       "    </tr>\n",
       "    <tr>\n",
       "      <th>3</th>\n",
       "      <td>Nokia</td>\n",
       "      <td>105 (2013), 105 (2015)</td>\n",
       "      <td>Bar</td>\n",
       "      <td>No</td>\n",
       "      <td>2013</td>\n",
       "      <td>200.0</td>\n",
       "    </tr>\n",
       "    <tr>\n",
       "      <th>4</th>\n",
       "      <td>Apple</td>\n",
       "      <td>iPhone 6S and iPhone 6S Plus</td>\n",
       "      <td>Touchscreen</td>\n",
       "      <td>Yes</td>\n",
       "      <td>2015</td>\n",
       "      <td>174.1</td>\n",
       "    </tr>\n",
       "    <tr>\n",
       "      <th>...</th>\n",
       "      <td>...</td>\n",
       "      <td>...</td>\n",
       "      <td>...</td>\n",
       "      <td>...</td>\n",
       "      <td>...</td>\n",
       "      <td>...</td>\n",
       "    </tr>\n",
       "    <tr>\n",
       "      <th>106</th>\n",
       "      <td>LG</td>\n",
       "      <td>G2</td>\n",
       "      <td>Touchscreen</td>\n",
       "      <td>Yes</td>\n",
       "      <td>2013</td>\n",
       "      <td>3.0</td>\n",
       "    </tr>\n",
       "    <tr>\n",
       "      <th>107</th>\n",
       "      <td>LeTV</td>\n",
       "      <td>LeEco Le 1s</td>\n",
       "      <td>Touchscreen</td>\n",
       "      <td>Yes</td>\n",
       "      <td>2016</td>\n",
       "      <td>3.0</td>\n",
       "    </tr>\n",
       "    <tr>\n",
       "      <th>108</th>\n",
       "      <td>Google</td>\n",
       "      <td>Pixel and Pixel XL</td>\n",
       "      <td>Touchscreen</td>\n",
       "      <td>Yes</td>\n",
       "      <td>2016</td>\n",
       "      <td>2.1</td>\n",
       "    </tr>\n",
       "    <tr>\n",
       "      <th>109</th>\n",
       "      <td>Palm</td>\n",
       "      <td>Centro</td>\n",
       "      <td>Keyboard bar</td>\n",
       "      <td>Yes</td>\n",
       "      <td>2007</td>\n",
       "      <td>2.0</td>\n",
       "    </tr>\n",
       "    <tr>\n",
       "      <th>110</th>\n",
       "      <td>Nokia</td>\n",
       "      <td>N97</td>\n",
       "      <td>Tilt slider</td>\n",
       "      <td>Yes</td>\n",
       "      <td>2009</td>\n",
       "      <td>2.0</td>\n",
       "    </tr>\n",
       "  </tbody>\n",
       "</table>\n",
       "<p>111 rows × 6 columns</p>\n",
       "</div>"
      ],
      "text/plain": [
       "    manufacturer                         model          form smartphone  year  \\\n",
       "0          Nokia                          1100           Bar         No  2003   \n",
       "1          Nokia                          1110           Bar         No  2005   \n",
       "2          Apple    iPhone 6 and iPhone 6 Plus   Touchscreen        Yes  2014   \n",
       "3          Nokia        105 (2013), 105 (2015)           Bar         No  2013   \n",
       "4          Apple  iPhone 6S and iPhone 6S Plus   Touchscreen        Yes  2015   \n",
       "..           ...                           ...           ...        ...   ...   \n",
       "106           LG                            G2   Touchscreen        Yes  2013   \n",
       "107         LeTV                   LeEco Le 1s   Touchscreen        Yes  2016   \n",
       "108       Google            Pixel and Pixel XL   Touchscreen        Yes  2016   \n",
       "109         Palm                        Centro  Keyboard bar        Yes  2007   \n",
       "110        Nokia                           N97   Tilt slider        Yes  2009   \n",
       "\n",
       "     units_sold_m  \n",
       "0           250.0  \n",
       "1           247.5  \n",
       "2           224.0  \n",
       "3           200.0  \n",
       "4           174.1  \n",
       "..            ...  \n",
       "106           3.0  \n",
       "107           3.0  \n",
       "108           2.1  \n",
       "109           2.0  \n",
       "110           2.0  \n",
       "\n",
       "[111 rows x 6 columns]"
      ]
     },
     "execution_count": 31,
     "metadata": {},
     "output_type": "execute_result"
    }
   ],
   "source": [
    "best_selling"
   ]
  },
  {
   "cell_type": "code",
   "execution_count": 32,
   "metadata": {
    "execution": {
     "iopub.execute_input": "2022-10-08T10:27:49.643778Z",
     "iopub.status.busy": "2022-10-08T10:27:49.643353Z",
     "iopub.status.idle": "2022-10-08T10:27:49.653188Z",
     "shell.execute_reply": "2022-10-08T10:27:49.651948Z",
     "shell.execute_reply.started": "2022-10-08T10:27:49.643742Z"
    }
   },
   "outputs": [
    {
     "data": {
      "text/plain": [
       "Samsung                     35\n",
       "Nokia                       27\n",
       "Apple                       14\n",
       "LG                           7\n",
       "Xiaomi                       7\n",
       "Huawei                       6\n",
       "Motorola                     5\n",
       "Sony Ericsson                3\n",
       "Oppo                         2\n",
       "HTC                          1\n",
       "Research In Motion (RIM)     1\n",
       "LeTV                         1\n",
       "Google                       1\n",
       "Palm                         1\n",
       "Name: manufacturer, dtype: int64"
      ]
     },
     "execution_count": 32,
     "metadata": {},
     "output_type": "execute_result"
    }
   ],
   "source": [
    "best_selling[\"manufacturer\"].value_counts()"
   ]
  },
  {
   "cell_type": "code",
   "execution_count": 33,
   "metadata": {
    "execution": {
     "iopub.execute_input": "2022-10-08T10:27:50.662195Z",
     "iopub.status.busy": "2022-10-08T10:27:50.661747Z",
     "iopub.status.idle": "2022-10-08T10:27:51.024329Z",
     "shell.execute_reply": "2022-10-08T10:27:51.023233Z",
     "shell.execute_reply.started": "2022-10-08T10:27:50.662158Z"
    }
   },
   "outputs": [
    {
     "data": {
      "text/plain": [
       "<AxesSubplot:xlabel='count', ylabel='manufacturer'>"
      ]
     },
     "execution_count": 33,
     "metadata": {},
     "output_type": "execute_result"
    },
    {
     "data": {
      "image/png": "[encoded data removed]",
      "text/plain": [
       "<Figure size 1080x720 with 1 Axes>"
      ]
     },
     "metadata": {},
     "output_type": "display_data"
    }
   ],
   "source": [
    "plt.figure(figsize=(15,10))\n",
    "sns.countplot(data=best_selling,y=\"manufacturer\")"
   ]
  },
  {
   "cell_type": "markdown",
   "metadata": {},
   "source": [
    "**Insight:**\n",
    "* By volume, Samsung sold more phones than any other company.\n",
    "* Nokia is in 2nd place.\n",
    "* Apple is in 3rd place.\n",
    "\n",
    "\n"
   ]
  },
  {
   "cell_type": "code",
   "execution_count": 34,
   "metadata": {
    "execution": {
     "iopub.execute_input": "2022-10-08T10:09:56.863421Z",
     "iopub.status.busy": "2022-10-08T10:09:56.862475Z",
     "iopub.status.idle": "2022-10-08T10:09:56.87321Z",
     "shell.execute_reply": "2022-10-08T10:09:56.871791Z",
     "shell.execute_reply.started": "2022-10-08T10:09:56.863377Z"
    }
   },
   "outputs": [
    {
     "data": {
      "text/plain": [
       "Touchscreen     70\n",
       "Bar             27\n",
       "Slider           6\n",
       "Flip phone       4\n",
       "Keyboard bar     2\n",
       "Taco             1\n",
       "Tilt slider      1\n",
       "Name: form, dtype: int64"
      ]
     },
     "execution_count": 34,
     "metadata": {},
     "output_type": "execute_result"
    }
   ],
   "source": [
    "best_selling[\"form\"].value_counts()"
   ]
  },
  {
   "cell_type": "code",
   "execution_count": 35,
   "metadata": {
    "execution": {
     "iopub.execute_input": "2022-10-08T10:19:16.039776Z",
     "iopub.status.busy": "2022-10-08T10:19:16.039358Z",
     "iopub.status.idle": "2022-10-08T10:19:16.360808Z",
     "shell.execute_reply": "2022-10-08T10:19:16.359654Z",
     "shell.execute_reply.started": "2022-10-08T10:19:16.039742Z"
    }
   },
   "outputs": [
    {
     "data": {
      "text/plain": [
       "<AxesSubplot:xlabel='count', ylabel='form'>"
      ]
     },
     "execution_count": 35,
     "metadata": {},
     "output_type": "execute_result"
    },
    {
     "data": {
      "image/png": "[encoded data removed]",
      "text/plain": [
       "<Figure size 1080x720 with 1 Axes>"
      ]
     },
     "metadata": {},
     "output_type": "display_data"
    }
   ],
   "source": [
    "plt.figure(figsize=(15,10))\n",
    "sns.countplot(data=best_selling,y=\"form\")"
   ]
  },
  {
   "cell_type": "code",
   "execution_count": 36,
   "metadata": {
    "execution": {
     "iopub.execute_input": "2022-10-08T10:12:20.640614Z",
     "iopub.status.busy": "2022-10-08T10:12:20.639969Z",
     "iopub.status.idle": "2022-10-08T10:12:20.649716Z",
     "shell.execute_reply": "2022-10-08T10:12:20.648304Z",
     "shell.execute_reply.started": "2022-10-08T10:12:20.640575Z"
    }
   },
   "outputs": [
    {
     "data": {
      "text/plain": [
       "Yes    76\n",
       "No     35\n",
       "Name: smartphone, dtype: int64"
      ]
     },
     "execution_count": 36,
     "metadata": {},
     "output_type": "execute_result"
    }
   ],
   "source": [
    "best_selling[\"smartphone\"].value_counts()"
   ]
  },
  {
   "cell_type": "code",
   "execution_count": 37,
   "metadata": {
    "execution": {
     "iopub.execute_input": "2022-10-08T10:18:43.439136Z",
     "iopub.status.busy": "2022-10-08T10:18:43.43871Z",
     "iopub.status.idle": "2022-10-08T10:18:43.620773Z",
     "shell.execute_reply": "2022-10-08T10:18:43.619906Z",
     "shell.execute_reply.started": "2022-10-08T10:18:43.439103Z"
    }
   },
   "outputs": [
    {
     "data": {
      "text/plain": [
       "<AxesSubplot:xlabel='smartphone', ylabel='count'>"
      ]
     },
     "execution_count": 37,
     "metadata": {},
     "output_type": "execute_result"
    },
    {
     "data": {
      "image/png": "[encoded data removed]",
      "text/plain": [
       "<Figure size 1080x720 with 1 Axes>"
      ]
     },
     "metadata": {},
     "output_type": "display_data"
    }
   ],
   "source": [
    "plt.figure(figsize=(15,10))\n",
    "sns.countplot(data=best_selling,x=\"smartphone\")"
   ]
  },
  {
   "cell_type": "markdown",
   "metadata": {
    "execution": {
     "iopub.execute_input": "2022-10-08T10:32:36.760096Z",
     "iopub.status.busy": "2022-10-08T10:32:36.75965Z",
     "iopub.status.idle": "2022-10-08T10:32:36.778617Z",
     "shell.execute_reply": "2022-10-08T10:32:36.777349Z",
     "shell.execute_reply.started": "2022-10-08T10:32:36.760059Z"
    }
   },
   "source": [
    "# Best Selling Phones in 2020"
   ]
  },
  {
   "cell_type": "code",
   "execution_count": 42,
   "metadata": {
    "execution": {
     "iopub.execute_input": "2022-10-08T10:34:54.079981Z",
     "iopub.status.busy": "2022-10-08T10:34:54.079427Z",
     "iopub.status.idle": "2022-10-08T10:34:54.091189Z",
     "shell.execute_reply": "2022-10-08T10:34:54.089898Z",
     "shell.execute_reply.started": "2022-10-08T10:34:54.079932Z"
    }
   },
   "outputs": [
    {
     "data": {
      "text/plain": [
       "Apple      3\n",
       "Samsung    3\n",
       "Xiami      1\n",
       "Name: Company, dtype: int64"
      ]
     },
     "execution_count": 42,
     "metadata": {},
     "output_type": "execute_result"
    }
   ],
   "source": [
    "best_selling_phones_in_2020[\"Company\"].value_counts()"
   ]
  },
  {
   "cell_type": "code",
   "execution_count": 43,
   "metadata": {
    "execution": {
     "iopub.execute_input": "2022-10-08T10:35:52.788422Z",
     "iopub.status.busy": "2022-10-08T10:35:52.788037Z",
     "iopub.status.idle": "2022-10-08T10:35:53.027852Z",
     "shell.execute_reply": "2022-10-08T10:35:53.026475Z",
     "shell.execute_reply.started": "2022-10-08T10:35:52.788391Z"
    }
   },
   "outputs": [
    {
     "data": {
      "text/plain": [
       "<AxesSubplot:xlabel='Company', ylabel='count'>"
      ]
     },
     "execution_count": 43,
     "metadata": {},
     "output_type": "execute_result"
    },
    {
     "data": {
      "image/png": "[encoded data removed]",
      "text/plain": [
       "<Figure size 1080x720 with 1 Axes>"
      ]
     },
     "metadata": {},
     "output_type": "display_data"
    }
   ],
   "source": [
    "plt.figure(figsize=(15,10))\n",
    "sns.countplot(data=best_selling_phones_in_2020,x=\"Company\")"
   ]
  },
  {
   "cell_type": "code",
   "execution_count": 44,
   "metadata": {
    "execution": {
     "iopub.execute_input": "2022-10-08T10:34:14.256965Z",
     "iopub.status.busy": "2022-10-08T10:34:14.25649Z",
     "iopub.status.idle": "2022-10-08T10:34:14.604618Z",
     "shell.execute_reply": "2022-10-08T10:34:14.603298Z",
     "shell.execute_reply.started": "2022-10-08T10:34:14.256924Z"
    }
   },
   "outputs": [
    {
     "data": {
      "text/plain": [
       "<AxesSubplot:xlabel='Sold(million)', ylabel='Phone'>"
      ]
     },
     "execution_count": 44,
     "metadata": {},
     "output_type": "execute_result"
    },
    {
     "data": {
      "image/png": "[encoded data removed]",
      "text/plain": [
       "<Figure size 1080x720 with 1 Axes>"
      ]
     },
     "metadata": {},
     "output_type": "display_data"
    }
   ],
   "source": [
    "plt.figure(figsize=(15,10))\n",
    "sns.barplot(data=best_selling_phones_in_2020,y=\"Phone\",x=\"Sold(million)\")"
   ]
  },
  {
   "cell_type": "code",
   "execution_count": null,
   "metadata": {},
   "outputs": [],
   "source": []
  }
 ],
 "metadata": {
  "kernelspec": {
   "display_name": "Python 3 (ipykernel)",
   "language": "python",
   "name": "python3"
  },
  "language_info": {
   "codemirror_mode": {
    "name": "ipython",
    "version": 3
   },
   "file_extension": ".py",
   "mimetype": "text/x-python",
   "name": "python",
   "nbconvert_exporter": "python",
   "pygments_lexer": "ipython3",
   "version": "3.9.13"
  }
 },
 "nbformat": 4,
 "nbformat_minor": 4
}
